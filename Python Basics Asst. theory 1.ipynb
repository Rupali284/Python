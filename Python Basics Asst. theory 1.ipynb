{
 "cells": [
  {
   "cell_type": "markdown",
   "metadata": {},
   "source": [
    "# QN 1. Values & Expressions:"
   ]
  },
  {
   "cell_type": "markdown",
   "metadata": {},
   "source": [
    "Values: \n",
    "    hello',  -87.8,  6"
   ]
  },
  {
   "cell_type": "markdown",
   "metadata": {},
   "source": [
    "Expressions:\n",
    "    *,  -,  /,  +"
   ]
  },
  {
   "cell_type": "markdown",
   "metadata": {},
   "source": [
    "# QN 2. Difference between String & Variables:"
   ]
  },
  {
   "cell_type": "markdown",
   "metadata": {},
   "source": [
    "Variables:\n",
    "    A Python variable is a reserved memory location to store values. It gives gives data to the computer for processing.\n",
    "    Following are the variable data tyes:\n",
    "        Numbers, List, Tuples, String, Dictionary etc.\n",
    "        \n",
    "String: \n",
    "    Collection of text in python is a string. e.g. We have created the string \"Hello Python\" & printed it as output.\n",
    "    String are one of the fundamental Python data types. \n",
    "    String is one of the types of Python variables.\n",
    "    \n"
   ]
  },
  {
   "cell_type": "markdown",
   "metadata": {},
   "source": [
    "# QN 3. Three data types of Python:"
   ]
  },
  {
   "cell_type": "markdown",
   "metadata": {},
   "source": [
    "There are three basic data types in Python. like- Numeric, Sequence & Boolean.\n",
    "And others are Dictionary & set.\n",
    "\n",
    "*Numeric data type:\n",
    "Numeric data type represent the data which has numeric value. It can be integer, floating number or complex numbers. \n",
    "These values are defined as int, float and complex class in Python.\n",
    "\n",
    "1.Integers: It is respresented as int class. It Contains positive or negative whole numbers.\n",
    "    \n",
    "2.Float: It is represented as float class. It is a real number with floating point representation andspecified by a decimal point\n",
    "    \n",
    "3.Complex numbers: Represented by complex class. It has real number+ imaginary number. e.g (5+4j)\n",
    "  \n",
    "\n",
    "*Sequence data type:\n",
    "In Python, sequence is the ordered collection of similar or different data types.\n",
    "Sequences allows to store multiple values in an organized and efficient fashion.\n",
    "There are several sequence types in Python- such as String, List & Tuples\n",
    "\n",
    "1.String: \n",
    "Strings are arrays of bytes representing Unicode characters. \n",
    "A string is a collection of one or more characters put in a single quote, double-quote or triple quote. \n",
    "In python there is no character data type, a character is a string of length one.\n",
    "It is represented by str class.\n",
    "Strings can be created using single quote, double quotes or triple quotes.\n",
    "\n",
    "2.Lists:\n",
    "Lists are just like the arrays, declared in other languages which is an ordered collection of data. \n",
    "It is very flexible as the items in a list do not need to be of the same type.\n",
    "Lists in Python can be created by just placing the sequence inside the square brackets[]. \n",
    " \n",
    "3.Tuples:\n",
    "Just like list, tuple is also an ordered collection of Python objects. \n",
    "The only difference between type and list is that tuples are immutable i.e. tuples cannot be modified after it is created. \n",
    "It is represented by tuple class. \n",
    "Tuples are created by placing a sequence of values separated by ‘comma’ with or without the use of parentheses for grouping of \n",
    "the data sequence.\n",
    "Tuples can contain any number of elements and of any datatype (like strings, integers, list, etc.).\n",
    "\n",
    "\n",
    "*Boolean:\n",
    "Data type with one of the two built-in values, True or False.\n",
    "Boolean objects that are equal to True are truthy (true), and those equal to False are falsy (false).\n",
    "But non-Boolean objects can be evaluated in Boolean context as well and determined to be true or false.\n",
    "It is denoted by the class bool."
   ]
  },
  {
   "cell_type": "markdown",
   "metadata": {},
   "source": [
    "# QN 4. What is an expression made up of? What do all expressions do?"
   ]
  },
  {
   "cell_type": "markdown",
   "metadata": {},
   "source": [
    "1.Expressions are representations of value. \n",
    "2.In Python, operators are special symbols that designate that some sort of computation should be performed. The values that an operator acts on are called operands. A sequence of operands and operators, like a + b - 5 , is called an expression. \n",
    "3.Python supports many operators for combining data objects into expressions.\n",
    "4.An expression is a combination of operators, constants and variables. An expression may consist of one or more operands, and zero or more operators to produce a value.\n",
    "5.Expressions are used in programming languages, database systems.\n",
    "6.Below are the types of expressions in python.\n",
    "\n",
    "    1.Numeric- Expression that results in a number, integer, floating point and complex number is a numeric expression.\n",
    "    2.Boolean- Anything that results in or evaluated as  a True/False value.\n",
    "    3.String- Anything that results in a string, including calculation, replication & slicing.\n",
    "    4.Comprehension- An expression to biuld a list, dictionary or set which has a for loop inside a square or curly brackets.\n",
    "    5.Generator Expression- Something that lokks like a comprehention but is inside parentheses and creates a sequence of value"
   ]
  },
  {
   "cell_type": "markdown",
   "metadata": {},
   "source": [
    "# QN 5. What is the difference between Expression & a statement?"
   ]
  },
  {
   "cell_type": "markdown",
   "metadata": {},
   "source": [
    "1.An expression always returns a value. So any line of Python code that returns a value which can be printed on the screen can be called as an expression.\n",
    "\n",
    "On the other hand, a statement is a line of code that will not print any value onto the screen.\n",
    "\n",
    "2.A statement performs certain action (does something), an expression evaluates to a value. All the expressions can be counted as statement, since they are performing certain actions.\n",
    "e.g. 'x=1' is a statement &\n",
    "     'y=x+1' is an expression"
   ]
  },
  {
   "cell_type": "markdown",
   "metadata": {},
   "source": [
    "# QN 6."
   ]
  },
  {
   "cell_type": "code",
   "execution_count": 9,
   "metadata": {},
   "outputs": [],
   "source": [
    "bacon=22"
   ]
  },
  {
   "cell_type": "code",
   "execution_count": 10,
   "metadata": {},
   "outputs": [
    {
     "data": {
      "text/plain": [
       "23"
      ]
     },
     "execution_count": 10,
     "metadata": {},
     "output_type": "execute_result"
    }
   ],
   "source": [
    "bacon+1"
   ]
  },
  {
   "cell_type": "markdown",
   "metadata": {},
   "source": [
    "Here 'bacon' variable is set to 22. The 'bacon+1' expression does not reassign th evalue in bacon. \n",
    "can be written as, bacon=bacon+1"
   ]
  },
  {
   "cell_type": "markdown",
   "metadata": {},
   "source": [
    "# QN 7. What should the values of the following two terms be?\n",
    "\n",
    "'spam'+'spamspam' &\n",
    "'spam'*3"
   ]
  },
  {
   "cell_type": "code",
   "execution_count": 12,
   "metadata": {},
   "outputs": [
    {
     "data": {
      "text/plain": [
       "'spamspamspam'"
      ]
     },
     "execution_count": 12,
     "metadata": {},
     "output_type": "execute_result"
    }
   ],
   "source": [
    "'spam'+'spamspam'"
   ]
  },
  {
   "cell_type": "code",
   "execution_count": 13,
   "metadata": {},
   "outputs": [
    {
     "data": {
      "text/plain": [
       "'spamspamspam'"
      ]
     },
     "execution_count": 13,
     "metadata": {},
     "output_type": "execute_result"
    }
   ],
   "source": [
    "'spam'*3"
   ]
  },
  {
   "cell_type": "markdown",
   "metadata": {},
   "source": [
    "So here as we can see, both the above expressions evaluate the same value 'spamspamspam'."
   ]
  },
  {
   "cell_type": "markdown",
   "metadata": {},
   "source": [
    "# QN 8. Why is eggs a valid variable name while 100 is invalid?"
   ]
  },
  {
   "cell_type": "markdown",
   "metadata": {},
   "source": [
    "Here eggs is a valid variable name while 100 is invalid, bacause a variable name can not begin with a number."
   ]
  },
  {
   "cell_type": "markdown",
   "metadata": {},
   "source": [
    "# QN 9. functions used to get the integer, floating-point number, or string version of a value:"
   ]
  },
  {
   "cell_type": "markdown",
   "metadata": {},
   "source": [
    "int(),\n",
    "float(),\n",
    "str()\n",
    "\n",
    "are three functions used to get integer, floating-point number & string."
   ]
  },
  {
   "cell_type": "markdown",
   "metadata": {},
   "source": [
    "# QN 10. Why does this expression cause an error? How can you fix it?\n",
    "\n",
    "'I have eaten'+ 99+ 'burritos.'"
   ]
  },
  {
   "cell_type": "code",
   "execution_count": 16,
   "metadata": {},
   "outputs": [
    {
     "ename": "TypeError",
     "evalue": "can only concatenate str (not \"int\") to str",
     "output_type": "error",
     "traceback": [
      "\u001b[1;31m---------------------------------------------------------------------------\u001b[0m",
      "\u001b[1;31mTypeError\u001b[0m                                 Traceback (most recent call last)",
      "\u001b[1;32m<ipython-input-16-d0afe4336f7b>\u001b[0m in \u001b[0;36m<module>\u001b[1;34m\u001b[0m\n\u001b[1;32m----> 1\u001b[1;33m \u001b[1;34m'I have eaten'\u001b[0m\u001b[1;33m+\u001b[0m \u001b[1;36m99\u001b[0m\u001b[1;33m+\u001b[0m \u001b[1;34m'burritos.'\u001b[0m\u001b[1;33m\u001b[0m\u001b[1;33m\u001b[0m\u001b[0m\n\u001b[0m",
      "\u001b[1;31mTypeError\u001b[0m: can only concatenate str (not \"int\") to str"
     ]
    }
   ],
   "source": [
    "'I have eaten'+ 99+ 'burritos.'"
   ]
  },
  {
   "cell_type": "markdown",
   "metadata": {},
   "source": [
    "Here we have got error because, 99 is an integer & only strings can be concatenated with + and not integer."
   ]
  },
  {
   "cell_type": "code",
   "execution_count": 20,
   "metadata": {},
   "outputs": [
    {
     "data": {
      "text/plain": [
       "'I have eaten 99 burritos.'"
      ]
     },
     "execution_count": 20,
     "metadata": {},
     "output_type": "execute_result"
    }
   ],
   "source": [
    "'I have eaten '+ str(99)+' burritos.'"
   ]
  },
  {
   "cell_type": "markdown",
   "metadata": {},
   "source": [
    "But in this way if we write, we can get desired output with integer in string."
   ]
  },
  {
   "cell_type": "code",
   "execution_count": null,
   "metadata": {},
   "outputs": [],
   "source": []
  }
 ],
 "metadata": {
  "kernelspec": {
   "display_name": "Python 3",
   "language": "python",
   "name": "python3"
  },
  "language_info": {
   "codemirror_mode": {
    "name": "ipython",
    "version": 3
   },
   "file_extension": ".py",
   "mimetype": "text/x-python",
   "name": "python",
   "nbconvert_exporter": "python",
   "pygments_lexer": "ipython3",
   "version": "3.8.5"
  }
 },
 "nbformat": 4,
 "nbformat_minor": 4
}
